{
 "cells": [
  {
   "cell_type": "code",
   "execution_count": 1,
   "id": "35ef619a-b73d-438e-953e-0adfcfa0b7c2",
   "metadata": {},
   "outputs": [],
   "source": [
    "i = 1\n",
    "j = 2"
   ]
  },
  {
   "cell_type": "code",
   "execution_count": 2,
   "id": "5bc2d6b1-8374-42b1-b931-c5d37874a494",
   "metadata": {},
   "outputs": [],
   "source": [
    "k = i + j"
   ]
  },
  {
   "cell_type": "code",
   "execution_count": 3,
   "id": "acf9eb64-33dd-4546-948a-4f2308ea3f54",
   "metadata": {},
   "outputs": [
    {
     "data": {
      "text/plain": [
       "3"
      ]
     },
     "execution_count": 3,
     "metadata": {},
     "output_type": "execute_result"
    }
   ],
   "source": [
    "k"
   ]
  },
  {
   "cell_type": "markdown",
   "id": "a43d407a-9060-4f84-8dd6-0c1a934194cc",
   "metadata": {},
   "source": [
    "# I am a heading\n",
    "- I am a list.\n",
    "- I am a list.\n",
    "- I am the third item.\n",
    "\n",
    "![](https://hips.hearstapps.com/hmg-prod.s3.amazonaws.com/images/best-girl-cat-names-1606245046.jpg?crop=0.668xw:1.00xh;0.126xw,0&resize=768:*)\n",
    "\n",
    "**Bold text**"
   ]
  },
  {
   "cell_type": "code",
   "execution_count": null,
   "id": "32761e33-6007-46a7-883f-e54ad3919ed5",
   "metadata": {},
   "outputs": [],
   "source": []
  }
 ],
 "metadata": {
  "kernelspec": {
   "display_name": "Python 3",
   "language": "python",
   "name": "python3"
  },
  "language_info": {
   "codemirror_mode": {
    "name": "ipython",
    "version": 3
   },
   "file_extension": ".py",
   "mimetype": "text/x-python",
   "name": "python",
   "nbconvert_exporter": "python",
   "pygments_lexer": "ipython3",
   "version": "3.8.8"
  }
 },
 "nbformat": 4,
 "nbformat_minor": 5
}
